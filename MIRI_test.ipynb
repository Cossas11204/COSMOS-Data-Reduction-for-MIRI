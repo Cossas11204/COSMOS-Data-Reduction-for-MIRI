{
 "cells": [
  {
   "cell_type": "markdown",
   "metadata": {},
   "source": [
    "#### Reproject and Coadd"
   ]
  },
  {
   "cell_type": "code",
   "execution_count": 22,
   "metadata": {},
   "outputs": [],
   "source": [
    "from MIRI import *\n",
    "from reproject import reproject_exact\n",
    "from reproject.mosaicking import reproject_and_coadd\n",
    "\n",
    "def reproj_coadd(instrument, _filter, obs_num):\n",
    "    images = [fits.open(i)[1] for i in sorted(glob.glob(f\"/mnt/C/JWST/COSMOS/{instrument}/{_filter}/o{obs_num}/*.fits\"))]\n",
    "\n",
    "    # 2. Align the Images\n",
    "    reference_wcs = images[0].header\n",
    "    aligned_images, footprint = reproject_and_coadd(\n",
    "                                                    images, \n",
    "                                                    output_projection=reference_wcs, \n",
    "                                                    reproject_function=reproject_exact,\n",
    "                                                    combine_function='mean', \n",
    "                                                    match_background=True\n",
    "                                                    )\n",
    "\n",
    "    image_visualization([aligned_images, footprint], auto_color=True, color_style='viridis')\n",
    "    \n",
    "reproj_coadd(\"MIRI\", \"F770W\", \"043\")"
   ]
  },
  {
   "cell_type": "markdown",
   "metadata": {},
   "source": [
    "#### Test Pipeline 3 Results"
   ]
  },
  {
   "cell_type": "code",
   "execution_count": 1,
   "metadata": {},
   "outputs": [
    {
     "ename": "ModuleNotFoundError",
     "evalue": "No module named 'yaml'",
     "output_type": "error",
     "traceback": [
      "\u001b[0;31m---------------------------------------------------------------------------\u001b[0m",
      "\u001b[0;31mModuleNotFoundError\u001b[0m                       Traceback (most recent call last)",
      "\u001b[1;32m/mnt/C/JWST/COSMOS/MIRI/MIRI_test.ipynb Cell 4\u001b[0m line \u001b[0;36m1\n\u001b[0;32m----> <a href='vscode-notebook-cell://ssh-remote%2B140.114.94.230/mnt/C/JWST/COSMOS/MIRI/MIRI_test.ipynb#W3sdnNjb2RlLXJlbW90ZQ%3D%3D?line=0'>1</a>\u001b[0m \u001b[39mfrom\u001b[39;00m \u001b[39mMIRI\u001b[39;00m \u001b[39mimport\u001b[39;00m run_Pipeline_3\n\u001b[1;32m      <a href='vscode-notebook-cell://ssh-remote%2B140.114.94.230/mnt/C/JWST/COSMOS/MIRI/MIRI_test.ipynb#W3sdnNjb2RlLXJlbW90ZQ%3D%3D?line=1'>2</a>\u001b[0m \u001b[39mimport\u001b[39;00m \u001b[39mglob\u001b[39;00m\n\u001b[1;32m      <a href='vscode-notebook-cell://ssh-remote%2B140.114.94.230/mnt/C/JWST/COSMOS/MIRI/MIRI_test.ipynb#W3sdnNjb2RlLXJlbW90ZQ%3D%3D?line=3'>4</a>\u001b[0m all_path \u001b[39m=\u001b[39m \u001b[39msorted\u001b[39m(glob\u001b[39m.\u001b[39mglob(\u001b[39mf\u001b[39m\u001b[39m\"\u001b[39m\u001b[39m/mnt/C/JWST/COSMOS/MIRI/F770W/o*\u001b[39m\u001b[39m\"\u001b[39m))\n",
      "File \u001b[0;32m/mnt/C/JWST/COSMOS/MIRI/MIRI.py:14\u001b[0m\n\u001b[1;32m     10\u001b[0m \u001b[39mimport\u001b[39;00m \u001b[39mnumpy\u001b[39;00m \u001b[39mas\u001b[39;00m \u001b[39mnp\u001b[39;00m\n\u001b[1;32m     12\u001b[0m \u001b[39mfrom\u001b[39;00m \u001b[39mpprint\u001b[39;00m \u001b[39mimport\u001b[39;00m pprint\n\u001b[0;32m---> 14\u001b[0m \u001b[39mfrom\u001b[39;00m \u001b[39mjwst\u001b[39;00m\u001b[39m.\u001b[39;00m\u001b[39mpipeline\u001b[39;00m \u001b[39mimport\u001b[39;00m Detector1Pipeline, Image2Pipeline\n\u001b[1;32m     16\u001b[0m \u001b[39mfrom\u001b[39;00m \u001b[39mphotutils\u001b[39;00m\u001b[39m.\u001b[39;00m\u001b[39mbackground\u001b[39;00m \u001b[39mimport\u001b[39;00m Background2D, MedianBackground\n\u001b[1;32m     18\u001b[0m \u001b[39mfrom\u001b[39;00m \u001b[39mutility\u001b[39;00m \u001b[39mimport\u001b[39;00m \u001b[39m*\u001b[39m\n",
      "File \u001b[0;32m~/.local/lib/python3.9/site-packages/jwst/pipeline/__init__.py:1\u001b[0m\n\u001b[0;32m----> 1\u001b[0m \u001b[39mfrom\u001b[39;00m \u001b[39m.\u001b[39;00m\u001b[39mcalwebb_ami3\u001b[39;00m \u001b[39mimport\u001b[39;00m Ami3Pipeline\n\u001b[1;32m      2\u001b[0m \u001b[39mfrom\u001b[39;00m \u001b[39m.\u001b[39;00m\u001b[39mcalwebb_coron3\u001b[39;00m \u001b[39mimport\u001b[39;00m Coron3Pipeline\n\u001b[1;32m      3\u001b[0m \u001b[39mfrom\u001b[39;00m \u001b[39m.\u001b[39;00m\u001b[39mcalwebb_dark\u001b[39;00m \u001b[39mimport\u001b[39;00m DarkPipeline\n",
      "File \u001b[0;32m~/.local/lib/python3.9/site-packages/jwst/pipeline/calwebb_ami3.py:5\u001b[0m\n\u001b[1;32m      2\u001b[0m \u001b[39mimport\u001b[39;00m \u001b[39mlogging\u001b[39;00m\n\u001b[1;32m      3\u001b[0m \u001b[39mimport\u001b[39;00m \u001b[39mos\u001b[39;00m\u001b[39m.\u001b[39;00m\u001b[39mpath\u001b[39;00m \u001b[39mas\u001b[39;00m \u001b[39mop\u001b[39;00m\n\u001b[0;32m----> 5\u001b[0m \u001b[39mfrom\u001b[39;00m \u001b[39m.\u001b[39;00m\u001b[39m.\u001b[39;00m\u001b[39mstpipe\u001b[39;00m \u001b[39mimport\u001b[39;00m Pipeline\n\u001b[1;32m      7\u001b[0m \u001b[39m# step imports\u001b[39;00m\n\u001b[1;32m      8\u001b[0m \u001b[39mfrom\u001b[39;00m \u001b[39m.\u001b[39;00m\u001b[39m.\u001b[39;00m\u001b[39mami\u001b[39;00m \u001b[39mimport\u001b[39;00m ami_analyze_step\n",
      "File \u001b[0;32m~/.local/lib/python3.9/site-packages/jwst/stpipe/__init__.py:1\u001b[0m\n\u001b[0;32m----> 1\u001b[0m \u001b[39mfrom\u001b[39;00m \u001b[39m.\u001b[39;00m\u001b[39mcore\u001b[39;00m \u001b[39mimport\u001b[39;00m JwstStep \u001b[39mas\u001b[39;00m Step, JwstPipeline \u001b[39mas\u001b[39;00m Pipeline\n\u001b[1;32m      4\u001b[0m __all__ \u001b[39m=\u001b[39m [\u001b[39m'\u001b[39m\u001b[39mStep\u001b[39m\u001b[39m'\u001b[39m, \u001b[39m'\u001b[39m\u001b[39mPipeline\u001b[39m\u001b[39m'\u001b[39m]\n",
      "File \u001b[0;32m~/.local/lib/python3.9/site-packages/jwst/stpipe/core.py:5\u001b[0m\n\u001b[1;32m      1\u001b[0m \u001b[39m\"\"\"\u001b[39;00m\n\u001b[1;32m      2\u001b[0m \u001b[39mJWST-specific Step and Pipeline base classes.\u001b[39;00m\n\u001b[1;32m      3\u001b[0m \u001b[39m\"\"\"\u001b[39;00m\n\u001b[1;32m      4\u001b[0m \u001b[39mfrom\u001b[39;00m \u001b[39mcollections\u001b[39;00m\u001b[39m.\u001b[39;00m\u001b[39mabc\u001b[39;00m \u001b[39mimport\u001b[39;00m Sequence\n\u001b[0;32m----> 5\u001b[0m \u001b[39mfrom\u001b[39;00m \u001b[39mstdatamodels\u001b[39;00m\u001b[39m.\u001b[39;00m\u001b[39mjwst\u001b[39;00m\u001b[39m.\u001b[39;00m\u001b[39mdatamodels\u001b[39;00m \u001b[39mimport\u001b[39;00m JwstDataModel\n\u001b[1;32m      6\u001b[0m \u001b[39mfrom\u001b[39;00m \u001b[39mstdatamodels\u001b[39;00m\u001b[39m.\u001b[39;00m\u001b[39mjwst\u001b[39;00m \u001b[39mimport\u001b[39;00m datamodels\n\u001b[1;32m      8\u001b[0m \u001b[39mfrom\u001b[39;00m \u001b[39m.\u001b[39;00m\u001b[39m.\u001b[39;00m \u001b[39mimport\u001b[39;00m __version_commit__, __version__\n",
      "File \u001b[0;32m~/.local/lib/python3.9/site-packages/stdatamodels/__init__.py:1\u001b[0m\n\u001b[0;32m----> 1\u001b[0m \u001b[39mfrom\u001b[39;00m \u001b[39m.\u001b[39;00m\u001b[39mmodel_base\u001b[39;00m \u001b[39mimport\u001b[39;00m DataModel\n\u001b[1;32m      2\u001b[0m \u001b[39mfrom\u001b[39;00m \u001b[39m.\u001b[39;00m \u001b[39mimport\u001b[39;00m _version\n\u001b[1;32m      5\u001b[0m __all__ \u001b[39m=\u001b[39m [\u001b[39m'\u001b[39m\u001b[39mDataModel\u001b[39m\u001b[39m'\u001b[39m, \u001b[39m'\u001b[39m\u001b[39m__version__\u001b[39m\u001b[39m'\u001b[39m]\n",
      "File \u001b[0;32m~/.local/lib/python3.9/site-packages/stdatamodels/model_base.py:16\u001b[0m\n\u001b[1;32m     14\u001b[0m \u001b[39mfrom\u001b[39;00m \u001b[39mastropy\u001b[39;00m\u001b[39m.\u001b[39;00m\u001b[39mio\u001b[39;00m \u001b[39mimport\u001b[39;00m fits\n\u001b[1;32m     15\u001b[0m \u001b[39mfrom\u001b[39;00m \u001b[39mastropy\u001b[39;00m\u001b[39m.\u001b[39;00m\u001b[39mtime\u001b[39;00m \u001b[39mimport\u001b[39;00m Time\n\u001b[0;32m---> 16\u001b[0m \u001b[39mfrom\u001b[39;00m \u001b[39mastropy\u001b[39;00m\u001b[39m.\u001b[39;00m\u001b[39mwcs\u001b[39;00m \u001b[39mimport\u001b[39;00m WCS\n\u001b[1;32m     18\u001b[0m \u001b[39mimport\u001b[39;00m \u001b[39masdf\u001b[39;00m\n\u001b[1;32m     19\u001b[0m \u001b[39mfrom\u001b[39;00m \u001b[39masdf\u001b[39;00m\u001b[39m.\u001b[39;00m\u001b[39mtags\u001b[39;00m\u001b[39m.\u001b[39;00m\u001b[39mcore\u001b[39;00m \u001b[39mimport\u001b[39;00m NDArrayType\n",
      "File \u001b[0;32m~/.local/lib/python3.9/site-packages/astropy/wcs/__init__.py:27\u001b[0m\n\u001b[1;32m      1\u001b[0m \u001b[39m# Licensed under a 3-clause BSD style license - see LICENSE.rst\u001b[39;00m\n\u001b[1;32m      2\u001b[0m \u001b[39m\"\"\"World Coordinate System (WCS) transformations in FITS files.\u001b[39;00m\n\u001b[1;32m      3\u001b[0m \n\u001b[1;32m      4\u001b[0m \u001b[39m.. _wcslib: https://www.atnf.csiro.au/people/mcalabre/WCS/wcslib/index.html\u001b[39;00m\n\u001b[0;32m   (...)\u001b[0m\n\u001b[1;32m     24\u001b[0m \u001b[39ma standard pipeline.\u001b[39;00m\n\u001b[1;32m     25\u001b[0m \u001b[39m\"\"\"\u001b[39;00m\n\u001b[0;32m---> 27\u001b[0m \u001b[39mfrom\u001b[39;00m \u001b[39m.\u001b[39;00m \u001b[39mimport\u001b[39;00m utils\n\u001b[1;32m     28\u001b[0m \u001b[39mfrom\u001b[39;00m \u001b[39m.\u001b[39;00m\u001b[39mwcs\u001b[39;00m \u001b[39mimport\u001b[39;00m \u001b[39m*\u001b[39m\n\u001b[1;32m     29\u001b[0m \u001b[39mfrom\u001b[39;00m \u001b[39m.\u001b[39;00m\u001b[39mwcs\u001b[39;00m \u001b[39mimport\u001b[39;00m InvalidTabularParametersError  \u001b[39m# just for docs\u001b[39;00m\n",
      "File \u001b[0;32m~/.local/lib/python3.9/site-packages/astropy/wcs/utils.py:8\u001b[0m\n\u001b[1;32m      5\u001b[0m \u001b[39mimport\u001b[39;00m \u001b[39mnumpy\u001b[39;00m \u001b[39mas\u001b[39;00m \u001b[39mnp\u001b[39;00m\n\u001b[1;32m      7\u001b[0m \u001b[39mimport\u001b[39;00m \u001b[39mastropy\u001b[39;00m\u001b[39m.\u001b[39;00m\u001b[39munits\u001b[39;00m \u001b[39mas\u001b[39;00m \u001b[39mu\u001b[39;00m\n\u001b[0;32m----> 8\u001b[0m \u001b[39mfrom\u001b[39;00m \u001b[39mastropy\u001b[39;00m\u001b[39m.\u001b[39;00m\u001b[39mcoordinates\u001b[39;00m \u001b[39mimport\u001b[39;00m ITRS, CartesianRepresentation, SphericalRepresentation\n\u001b[1;32m      9\u001b[0m \u001b[39mfrom\u001b[39;00m \u001b[39mastropy\u001b[39;00m\u001b[39m.\u001b[39;00m\u001b[39mutils\u001b[39;00m \u001b[39mimport\u001b[39;00m unbroadcast\n\u001b[1;32m     11\u001b[0m \u001b[39mfrom\u001b[39;00m \u001b[39m.\u001b[39;00m\u001b[39mwcs\u001b[39;00m \u001b[39mimport\u001b[39;00m WCS, WCSSUB_LATITUDE, WCSSUB_LONGITUDE\n",
      "File \u001b[0;32m~/.local/lib/python3.9/site-packages/astropy/coordinates/__init__.py:13\u001b[0m\n\u001b[1;32m     11\u001b[0m \u001b[39mfrom\u001b[39;00m \u001b[39m.\u001b[39;00m\u001b[39mattributes\u001b[39;00m \u001b[39mimport\u001b[39;00m \u001b[39m*\u001b[39m\n\u001b[1;32m     12\u001b[0m \u001b[39mfrom\u001b[39;00m \u001b[39m.\u001b[39;00m\u001b[39mbaseframe\u001b[39;00m \u001b[39mimport\u001b[39;00m \u001b[39m*\u001b[39m\n\u001b[0;32m---> 13\u001b[0m \u001b[39mfrom\u001b[39;00m \u001b[39m.\u001b[39;00m\u001b[39mbuiltin_frames\u001b[39;00m \u001b[39mimport\u001b[39;00m \u001b[39m*\u001b[39m\n\u001b[1;32m     14\u001b[0m \u001b[39mfrom\u001b[39;00m \u001b[39m.\u001b[39;00m\u001b[39mcalculation\u001b[39;00m \u001b[39mimport\u001b[39;00m \u001b[39m*\u001b[39m\n\u001b[1;32m     15\u001b[0m \u001b[39mfrom\u001b[39;00m \u001b[39m.\u001b[39;00m\u001b[39mdistances\u001b[39;00m \u001b[39mimport\u001b[39;00m \u001b[39m*\u001b[39m\n",
      "File \u001b[0;32m~/.local/lib/python3.9/site-packages/astropy/coordinates/builtin_frames/__init__.py:30\u001b[0m\n\u001b[1;32m     28\u001b[0m \u001b[39mfrom\u001b[39;00m \u001b[39m.\u001b[39;00m\u001b[39maltaz\u001b[39;00m \u001b[39mimport\u001b[39;00m AltAz\n\u001b[1;32m     29\u001b[0m \u001b[39mfrom\u001b[39;00m \u001b[39m.\u001b[39;00m\u001b[39mbaseradec\u001b[39;00m \u001b[39mimport\u001b[39;00m BaseRADecFrame\n\u001b[0;32m---> 30\u001b[0m \u001b[39mfrom\u001b[39;00m \u001b[39m.\u001b[39;00m\u001b[39mcirs\u001b[39;00m \u001b[39mimport\u001b[39;00m CIRS\n\u001b[1;32m     31\u001b[0m \u001b[39mfrom\u001b[39;00m \u001b[39m.\u001b[39;00m\u001b[39mecliptic\u001b[39;00m \u001b[39mimport\u001b[39;00m (\n\u001b[1;32m     32\u001b[0m     BarycentricMeanEcliptic,\n\u001b[1;32m     33\u001b[0m     BarycentricTrueEcliptic,\n\u001b[0;32m   (...)\u001b[0m\n\u001b[1;32m     40\u001b[0m     HeliocentricTrueEcliptic,\n\u001b[1;32m     41\u001b[0m )\n\u001b[1;32m     42\u001b[0m \u001b[39mfrom\u001b[39;00m \u001b[39m.\u001b[39;00m\u001b[39mequatorial\u001b[39;00m \u001b[39mimport\u001b[39;00m TEME, TETE\n",
      "File \u001b[0;32m~/.local/lib/python3.9/site-packages/astropy/coordinates/builtin_frames/cirs.py:8\u001b[0m\n\u001b[1;32m      5\u001b[0m \u001b[39mfrom\u001b[39;00m \u001b[39mastropy\u001b[39;00m\u001b[39m.\u001b[39;00m\u001b[39mutils\u001b[39;00m\u001b[39m.\u001b[39;00m\u001b[39mdecorators\u001b[39;00m \u001b[39mimport\u001b[39;00m format_doc\n\u001b[1;32m      7\u001b[0m \u001b[39mfrom\u001b[39;00m \u001b[39m.\u001b[39;00m\u001b[39mbaseradec\u001b[39;00m \u001b[39mimport\u001b[39;00m BaseRADecFrame, doc_components\n\u001b[0;32m----> 8\u001b[0m \u001b[39mfrom\u001b[39;00m \u001b[39m.\u001b[39;00m\u001b[39mutils\u001b[39;00m \u001b[39mimport\u001b[39;00m DEFAULT_OBSTIME, EARTH_CENTER\n\u001b[1;32m     10\u001b[0m __all__ \u001b[39m=\u001b[39m [\u001b[39m\"\u001b[39m\u001b[39mCIRS\u001b[39m\u001b[39m\"\u001b[39m]\n\u001b[1;32m     13\u001b[0m doc_footer \u001b[39m=\u001b[39m \u001b[39m\"\"\"\u001b[39m\n\u001b[1;32m     14\u001b[0m \u001b[39m    Other parameters\u001b[39m\n\u001b[1;32m     15\u001b[0m \u001b[39m    ----------------\u001b[39m\n\u001b[0;32m   (...)\u001b[0m\n\u001b[1;32m     23\u001b[0m \u001b[39m        centre of the Earth.\u001b[39m\n\u001b[1;32m     24\u001b[0m \u001b[39m\"\"\"\u001b[39m\n",
      "File \u001b[0;32m~/.local/lib/python3.9/site-packages/astropy/coordinates/builtin_frames/utils.py:16\u001b[0m\n\u001b[1;32m     14\u001b[0m \u001b[39mfrom\u001b[39;00m \u001b[39mastropy\u001b[39;00m\u001b[39m.\u001b[39;00m\u001b[39mcoordinates\u001b[39;00m\u001b[39m.\u001b[39;00m\u001b[39mrepresentation\u001b[39;00m \u001b[39mimport\u001b[39;00m CartesianDifferential\n\u001b[1;32m     15\u001b[0m \u001b[39mfrom\u001b[39;00m \u001b[39mastropy\u001b[39;00m\u001b[39m.\u001b[39;00m\u001b[39mtime\u001b[39;00m \u001b[39mimport\u001b[39;00m Time\n\u001b[0;32m---> 16\u001b[0m \u001b[39mfrom\u001b[39;00m \u001b[39mastropy\u001b[39;00m\u001b[39m.\u001b[39;00m\u001b[39mutils\u001b[39;00m \u001b[39mimport\u001b[39;00m iers\n\u001b[1;32m     17\u001b[0m \u001b[39mfrom\u001b[39;00m \u001b[39mastropy\u001b[39;00m\u001b[39m.\u001b[39;00m\u001b[39mutils\u001b[39;00m\u001b[39m.\u001b[39;00m\u001b[39mexceptions\u001b[39;00m \u001b[39mimport\u001b[39;00m AstropyWarning\n\u001b[1;32m     19\u001b[0m \u001b[39m# We use tt as the time scale for this equinoxes, primarily because it is the\u001b[39;00m\n\u001b[1;32m     20\u001b[0m \u001b[39m# convention for J2000 (it is unclear if there is any \"right answer\" for B1950)\u001b[39;00m\n\u001b[1;32m     21\u001b[0m \u001b[39m# while #8600 makes this the default behavior, we show it here to ensure it's\u001b[39;00m\n\u001b[1;32m     22\u001b[0m \u001b[39m# clear which is used here\u001b[39;00m\n",
      "File \u001b[0;32m~/.local/lib/python3.9/site-packages/astropy/utils/iers/__init__.py:1\u001b[0m\n\u001b[0;32m----> 1\u001b[0m \u001b[39mfrom\u001b[39;00m \u001b[39m.\u001b[39;00m\u001b[39miers\u001b[39;00m \u001b[39mimport\u001b[39;00m \u001b[39m*\u001b[39m\n",
      "File \u001b[0;32m~/.local/lib/python3.9/site-packages/astropy/utils/iers/iers.py:23\u001b[0m\n\u001b[1;32m     21\u001b[0m \u001b[39mfrom\u001b[39;00m \u001b[39mastropy\u001b[39;00m \u001b[39mimport\u001b[39;00m units \u001b[39mas\u001b[39;00m u\n\u001b[1;32m     22\u001b[0m \u001b[39mfrom\u001b[39;00m \u001b[39mastropy\u001b[39;00m \u001b[39mimport\u001b[39;00m utils\n\u001b[0;32m---> 23\u001b[0m \u001b[39mfrom\u001b[39;00m \u001b[39mastropy\u001b[39;00m\u001b[39m.\u001b[39;00m\u001b[39mtable\u001b[39;00m \u001b[39mimport\u001b[39;00m MaskedColumn, QTable\n\u001b[1;32m     24\u001b[0m \u001b[39mfrom\u001b[39;00m \u001b[39mastropy\u001b[39;00m\u001b[39m.\u001b[39;00m\u001b[39mtime\u001b[39;00m \u001b[39mimport\u001b[39;00m Time, TimeDelta\n\u001b[1;32m     25\u001b[0m \u001b[39mfrom\u001b[39;00m \u001b[39mastropy\u001b[39;00m\u001b[39m.\u001b[39;00m\u001b[39mutils\u001b[39;00m\u001b[39m.\u001b[39;00m\u001b[39mdata\u001b[39;00m \u001b[39mimport\u001b[39;00m (\n\u001b[1;32m     26\u001b[0m     clear_download_cache,\n\u001b[1;32m     27\u001b[0m     get_pkg_data_filename,\n\u001b[1;32m     28\u001b[0m     get_readable_fileobj,\n\u001b[1;32m     29\u001b[0m     is_url_in_cache,\n\u001b[1;32m     30\u001b[0m )\n",
      "File \u001b[0;32m~/.local/lib/python3.9/site-packages/astropy/table/__init__.py:118\u001b[0m\n\u001b[1;32m    104\u001b[0m \u001b[39mfrom\u001b[39;00m \u001b[39m.\u001b[39;00m\u001b[39mtable\u001b[39;00m \u001b[39mimport\u001b[39;00m (\n\u001b[1;32m    105\u001b[0m     NdarrayMixin,\n\u001b[1;32m    106\u001b[0m     PprintIncludeExclude,\n\u001b[0;32m   (...)\u001b[0m\n\u001b[1;32m    113\u001b[0m     TableReplaceWarning,\n\u001b[1;32m    114\u001b[0m )\n\u001b[1;32m    116\u001b[0m \u001b[39mwith\u001b[39;00m registry\u001b[39m.\u001b[39mdelay_doc_updates(Table):\n\u001b[1;32m    117\u001b[0m     \u001b[39m# Import routines that connect readers/writers to astropy.table\u001b[39;00m\n\u001b[0;32m--> 118\u001b[0m     \u001b[39mimport\u001b[39;00m \u001b[39mastropy\u001b[39;00m\u001b[39m.\u001b[39;00m\u001b[39mio\u001b[39;00m\u001b[39m.\u001b[39;00m\u001b[39mascii\u001b[39;00m\u001b[39m.\u001b[39;00m\u001b[39mconnect\u001b[39;00m\n\u001b[1;32m    119\u001b[0m     \u001b[39mimport\u001b[39;00m \u001b[39mastropy\u001b[39;00m\u001b[39m.\u001b[39;00m\u001b[39mio\u001b[39;00m\u001b[39m.\u001b[39;00m\u001b[39mfits\u001b[39;00m\u001b[39m.\u001b[39;00m\u001b[39mconnect\u001b[39;00m\n\u001b[1;32m    120\u001b[0m     \u001b[39mimport\u001b[39;00m \u001b[39mastropy\u001b[39;00m\u001b[39m.\u001b[39;00m\u001b[39mio\u001b[39;00m\u001b[39m.\u001b[39;00m\u001b[39mmisc\u001b[39;00m\u001b[39m.\u001b[39;00m\u001b[39mconnect\u001b[39;00m\n",
      "File \u001b[0;32m~/.local/lib/python3.9/site-packages/astropy/io/ascii/__init__.py:43\u001b[0m\n\u001b[1;32m     19\u001b[0m \u001b[39mfrom\u001b[39;00m \u001b[39m.\u001b[39;00m\u001b[39mcore\u001b[39;00m \u001b[39mimport\u001b[39;00m (\n\u001b[1;32m     20\u001b[0m     AllType,\n\u001b[1;32m     21\u001b[0m     BaseData,\n\u001b[0;32m   (...)\u001b[0m\n\u001b[1;32m     40\u001b[0m     masked,\n\u001b[1;32m     41\u001b[0m )\n\u001b[1;32m     42\u001b[0m \u001b[39mfrom\u001b[39;00m \u001b[39m.\u001b[39;00m\u001b[39mdaophot\u001b[39;00m \u001b[39mimport\u001b[39;00m Daophot\n\u001b[0;32m---> 43\u001b[0m \u001b[39mfrom\u001b[39;00m \u001b[39m.\u001b[39;00m\u001b[39mecsv\u001b[39;00m \u001b[39mimport\u001b[39;00m Ecsv\n\u001b[1;32m     44\u001b[0m \u001b[39mfrom\u001b[39;00m \u001b[39m.\u001b[39;00m\u001b[39mfastbasic\u001b[39;00m \u001b[39mimport\u001b[39;00m (\n\u001b[1;32m     45\u001b[0m     FastBasic,\n\u001b[1;32m     46\u001b[0m     FastCommentedHeader,\n\u001b[0;32m   (...)\u001b[0m\n\u001b[1;32m     50\u001b[0m     FastTab,\n\u001b[1;32m     51\u001b[0m )\n\u001b[1;32m     52\u001b[0m \u001b[39mfrom\u001b[39;00m \u001b[39m.\u001b[39;00m\u001b[39mfixedwidth\u001b[39;00m \u001b[39mimport\u001b[39;00m (\n\u001b[1;32m     53\u001b[0m     FixedWidth,\n\u001b[1;32m     54\u001b[0m     FixedWidthData,\n\u001b[0;32m   (...)\u001b[0m\n\u001b[1;32m     58\u001b[0m     FixedWidthTwoLine,\n\u001b[1;32m     59\u001b[0m )\n",
      "File \u001b[0;32m~/.local/lib/python3.9/site-packages/astropy/io/ascii/ecsv.py:15\u001b[0m\n\u001b[1;32m     12\u001b[0m \u001b[39mimport\u001b[39;00m \u001b[39mnumpy\u001b[39;00m \u001b[39mas\u001b[39;00m \u001b[39mnp\u001b[39;00m\n\u001b[1;32m     14\u001b[0m \u001b[39mfrom\u001b[39;00m \u001b[39mastropy\u001b[39;00m\u001b[39m.\u001b[39;00m\u001b[39mio\u001b[39;00m\u001b[39m.\u001b[39;00m\u001b[39mascii\u001b[39;00m\u001b[39m.\u001b[39;00m\u001b[39mcore\u001b[39;00m \u001b[39mimport\u001b[39;00m convert_numpy\n\u001b[0;32m---> 15\u001b[0m \u001b[39mfrom\u001b[39;00m \u001b[39mastropy\u001b[39;00m\u001b[39m.\u001b[39;00m\u001b[39mtable\u001b[39;00m \u001b[39mimport\u001b[39;00m meta, serialize\n\u001b[1;32m     16\u001b[0m \u001b[39mfrom\u001b[39;00m \u001b[39mastropy\u001b[39;00m\u001b[39m.\u001b[39;00m\u001b[39mutils\u001b[39;00m\u001b[39m.\u001b[39;00m\u001b[39mdata_info\u001b[39;00m \u001b[39mimport\u001b[39;00m serialize_context_as\n\u001b[1;32m     17\u001b[0m \u001b[39mfrom\u001b[39;00m \u001b[39mastropy\u001b[39;00m\u001b[39m.\u001b[39;00m\u001b[39mutils\u001b[39;00m\u001b[39m.\u001b[39;00m\u001b[39mexceptions\u001b[39;00m \u001b[39mimport\u001b[39;00m AstropyUserWarning\n",
      "File \u001b[0;32m~/.local/lib/python3.9/site-packages/astropy/table/meta.py:7\u001b[0m\n\u001b[1;32m      4\u001b[0m \u001b[39mfrom\u001b[39;00m \u001b[39mcollections\u001b[39;00m \u001b[39mimport\u001b[39;00m OrderedDict\n\u001b[1;32m      6\u001b[0m \u001b[39mimport\u001b[39;00m \u001b[39mnumpy\u001b[39;00m \u001b[39mas\u001b[39;00m \u001b[39mnp\u001b[39;00m\n\u001b[0;32m----> 7\u001b[0m \u001b[39mimport\u001b[39;00m \u001b[39myaml\u001b[39;00m\n\u001b[1;32m      9\u001b[0m __all__ \u001b[39m=\u001b[39m [\u001b[39m\"\u001b[39m\u001b[39mget_header_from_yaml\u001b[39m\u001b[39m\"\u001b[39m, \u001b[39m\"\u001b[39m\u001b[39mget_yaml_from_header\u001b[39m\u001b[39m\"\u001b[39m, \u001b[39m\"\u001b[39m\u001b[39mget_yaml_from_table\u001b[39m\u001b[39m\"\u001b[39m]\n\u001b[1;32m     12\u001b[0m \u001b[39mclass\u001b[39;00m \u001b[39mColumnOrderList\u001b[39;00m(\u001b[39mlist\u001b[39m):\n",
      "\u001b[0;31mModuleNotFoundError\u001b[0m: No module named 'yaml'"
     ]
    }
   ],
   "source": [
    "from MIRI import run_Pipeline_3\n",
    "import glob\n",
    "\n",
    "all_path = sorted(glob.glob(f\"/mnt/C/JWST/COSMOS/MIRI/F770W/o*\"))\n",
    "\n",
    "for path in all_path:\n",
    "    obs_num = path.split('/')[-1].strip('o')\n",
    "    # if obs_num in ['043', '044', '045', '046', '047', '048']:\n",
    "    #     run_Pipeline_3(\"MIRI\", \"F770W\", obs_num, \"bri_col_sub\")\n",
    "    if obs_num in ['009']:\n",
    "        run_Pipeline_3(\"MIRI\", \"F770W\", obs_num, \"bri_col_sub\")\n",
    "\n",
    "    break\n"
   ]
  },
  {
   "cell_type": "markdown",
   "metadata": {},
   "source": [
    "#### 1/F Noise fits Files "
   ]
  },
  {
   "cell_type": "code",
   "execution_count": null,
   "metadata": {},
   "outputs": [],
   "source": [
    "from MIRI import *\n",
    "\n",
    "all_path = sorted(glob.glob(f\"/mnt/C/JWST/COSMOS/MIRI/F770W/o009/jw*_bkg_sub.fits\"))\n",
    "\n",
    "for file_name in all_path:\n"
   ]
  },
  {
   "cell_type": "markdown",
   "metadata": {},
   "source": [
    "#### wisp correction results"
   ]
  },
  {
   "cell_type": "code",
   "execution_count": null,
   "metadata": {},
   "outputs": [],
   "source": [
    "from MIRI import *\n",
    "\n",
    "# sort_wisp_corrected_images(\"MIRI\", \"F770W\")\n",
    "\n",
    "all_path = sorted(glob.glob(f\"/mnt/C/JWST/COSMOS/MIRI/F770W/jw*/jw*_cor_wsp.fits\"))\n",
    "\n",
    "for file_name in all_path:\n",
    "    strs = file_name.split(\"/\")[:-1]\n",
    "    file_path = \"/\".join(strs)\n",
    "    cor_wisp = fits_reader(file_name)['image']['SCI']\n",
    "    image_visualization(cor_wisp, auto_color=True, share_scale=True, show=False,\n",
    "                            vmin_value=50, vmax_value=95, img_dpi=300, scale_data=multiply_by_miri_effective_area(cor_wisp, nan=True),\n",
    "                            save=True, output_path=f'{file_path}/cor_wsp_image.png',)\n",
    "    break"
   ]
  },
  {
   "cell_type": "markdown",
   "metadata": {},
   "source": [
    "#### Check How Many Files Are Reduced"
   ]
  },
  {
   "cell_type": "code",
   "execution_count": null,
   "metadata": {},
   "outputs": [],
   "source": [
    "files_to_be_reduced = sorted(glob.glob(f'./F770W/jw*/*uncal.fits'))\n",
    "__ = []\n",
    "\n",
    "for fits_file in files_to_be_reduced:\n",
    "\n",
    "    fits_file = fits_file.split('/')[-1]\n",
    "    folder_name = remove_file_suffix(fits_file)\n",
    "    if os.path.exists(f\"/mnt/C/JWST/COSMOS/MIRI/F770W/{folder_name}/{folder_name}_cal.fits\"):\n",
    "        __.append(fits_file)\n",
    "\n",
    "print(f\"Finished Task:{np.round(len(__)/len(files_to_be_reduced)*100, 3)}%\")"
   ]
  },
  {
   "cell_type": "markdown",
   "metadata": {},
   "source": [
    "#### Extract MIRI Effective Area"
   ]
  },
  {
   "cell_type": "code",
   "execution_count": null,
   "metadata": {},
   "outputs": [],
   "source": [
    "from utility import extract_miri_effective_area\n",
    "extract_miri_effective_area()"
   ]
  },
  {
   "cell_type": "markdown",
   "metadata": {},
   "source": [
    "#### Test Wisp Results"
   ]
  },
  {
   "cell_type": "code",
   "execution_count": null,
   "metadata": {},
   "outputs": [],
   "source": [
    "import warnings\n",
    "warnings.filterwarnings(\"ignore\", module=\"photutils\")\n",
    "warnings.filterwarnings(\"ignore\", module=\"astropy\")\n",
    "warnings.filterwarnings(\"ignore\", module=\"numpy\")\n",
    "\n",
    "\n",
    "from MIRI import MIRI_Image\n",
    "\n",
    "from utility import *\n",
    "\n",
    "from pink_noise import *\n",
    "\n",
    "import glob\n",
    "\n",
    "\n",
    "files_to_be_reduced = sorted(glob.glob(rf\"/mnt/C/JWST/COSMOS/MIRI/F770W/jw*/*_uncal.fits\"))\n",
    "\n",
    "\n",
    "for fits_file in files_to_be_reduced:\n",
    "    fits_file = fits_file.split('/')[-1]\n",
    "    folder_name = remove_file_suffix(fits_file)\n",
    "\n",
    "    # print(\"No results found, starting Pipeline 1\")\n",
    "    a = MIRI_Image(\"F770W\", filename=fits_file)\n",
    "    # a.run_MIRI_Detector1Pipeline()\n",
    "    # a.run_MIRI_Image2Pipeline()\n",
    "    # a.remove_pink_noise()\n",
    "    a.wisp_removal(visualize_frames=False, \n",
    "                   visualize_template=False, \n",
    "                   include_stars=False, conv=True)"
   ]
  },
  {
   "cell_type": "markdown",
   "metadata": {},
   "source": [
    "#### Elevated Columns of Bright Sources"
   ]
  },
  {
   "cell_type": "code",
   "execution_count": 2,
   "metadata": {},
   "outputs": [
    {
     "name": "stdout",
     "output_type": "stream",
     "text": [
      "Initializing MIRI Obj. for: ./F770W/jw01727009001_02201_00001_mirimage/jw01727009001_02201_00001_mirimage_uncal.fits\n",
      "Observation: o009 Visit: 001 Detector: mirimage\n",
      "MIRI Obj. Initialized successfully.\n"
     ]
    }
   ],
   "source": [
    "import warnings\n",
    "warnings.filterwarnings(\"ignore\", module=\"photutils\")\n",
    "warnings.filterwarnings(\"ignore\", module=\"astropy\")\n",
    "warnings.filterwarnings(\"ignore\", module=\"numpy\")\n",
    "warnings.filterwarnings(\"ignore\", category=UserWarning, module=\"matplotlib.pyplot\")\n",
    "\n",
    "from MIRI import MIRI_Image\n",
    "from astropy.convolution import Box2DKernel\n",
    "\n",
    "from utility import *\n",
    "from pink_noise import *\n",
    "\n",
    "import glob\n",
    "\n",
    "files_to_be_reduced = sorted(glob.glob(rf\"/mnt/C/JWST/COSMOS/MIRI/F770W/jw*/*_uncal.fits\"))\n",
    "\n",
    "for fits_file in files_to_be_reduced:\n",
    "    fits_file = fits_file.split('/')[-1]\n",
    "    folder_name = remove_file_suffix(fits_file)\n",
    "\n",
    "    # print(\"No results found, starting Pipeline 1\")\n",
    "    a = MIRI_Image(\"F770W\", filename=fits_file)\n",
    "    break\n",
    "\n",
    "data_dict = a.load_corrected_data()"
   ]
  },
  {
   "cell_type": "code",
   "execution_count": 5,
   "metadata": {},
   "outputs": [],
   "source": [
    "a.subtract_brighten_columns()"
   ]
  },
  {
   "cell_type": "markdown",
   "metadata": {},
   "source": [
    "## SEx result from cor_cal and cor_wsp"
   ]
  },
  {
   "cell_type": "code",
   "execution_count": null,
   "metadata": {},
   "outputs": [],
   "source": [
    "from source_catalog import make_photutil_catalog\n",
    "import matplotlib.patches as patches\n",
    "\n",
    "from utility import *\n",
    "\n",
    "from pink_noise import *\n",
    "\n",
    "import glob\n",
    "\n",
    "files_to_be_reduced = sorted(glob.glob(rf\"/mnt/C/JWST/COSMOS/MIRI/F770W/jw*/*_uncal.fits\"))\n",
    "\n",
    "for fits_file in files_to_be_reduced:\n",
    "    fits_file = fits_file.split('/')[-1]\n",
    "    folder_name = remove_file_suffix(fits_file)\n",
    "\n",
    "    _, cal_cat_df = make_photutil_catalog(f\"/mnt/C/JWST/COSMOS/MIRI/F770W/{folder_name}/{folder_name}_cor_cal.fits\", \n",
    "                                    save_cat=f\"/mnt/C/JWST/COSMOS/MIRI/F770W/Test_cal_cat.csv\")\n",
    "    __, wsp_cat_df = make_photutil_catalog(f\"/mnt/C/JWST/COSMOS/MIRI/F770W/{folder_name}/{folder_name}_cor_wsp.fits\", \n",
    "                                    save_cat=f\"/mnt/C/JWST/COSMOS/MIRI/F770W/Test_wsp_cat.csv\")\n",
    "\n",
    "    image_cal, error_cal, wcs_cal = load_fits(f\"/mnt/C/JWST/COSMOS/MIRI/F770W/{folder_name}/{folder_name}_cor_cal.fits\")\n",
    "    image_wsp, error_wsp, wcs_wsp = load_fits(f\"/mnt/C/JWST/COSMOS/MIRI/F770W/{folder_name}/{folder_name}_cor_wsp.fits\")\n",
    "    \n",
    "    break"
   ]
  },
  {
   "cell_type": "code",
   "execution_count": null,
   "metadata": {},
   "outputs": [],
   "source": [
    "def compare_sources(image_data, projection_wcs, cal_cat_df, wsp_cat_df):\n",
    "    fig = plt.figure(figsize=(10, 10), dpi=350)\n",
    "    ax = plt.subplot(projection=projection_wcs)\n",
    "\n",
    "    vmin=np.nanpercentile(image_data.flatten(), 45)\n",
    "    vmax=np.nanpercentile(image_data.flatten(), 95)\n",
    "\n",
    "    # Creating the image plot\n",
    "    im = ax.imshow(image_data, origin='lower', cmap='Purples',\n",
    "                    vmin=vmin, vmax=vmax)\n",
    "\n",
    "    # Adding a colorbar\n",
    "    cbar = plt.colorbar(im, fraction=0.046, pad=0.04)\n",
    "    cbar.set_label('Intensity')\n",
    "\n",
    "    # coordinate overlay \n",
    "    overlay = ax.get_coords_overlay('fk5')\n",
    "    overlay.grid(color='magenta', ls='dotted', lw=2.5)\n",
    "\n",
    "    # Scatter plot of sources\n",
    "    x, y = wcs_wsp.all_world2pix(cal_cat_df['sky_centroid.ra'], cal_cat_df['sky_centroid.dec'], 1)\n",
    "    ax.scatter(x, y, label='Sources from cal img', marker='*',\n",
    "                linewidths=1.5, s=60, color='red', facecolors='none')\n",
    "\n",
    "    x, y = wcs_wsp.all_world2pix(wsp_cat_df['sky_centroid.ra'], wsp_cat_df['sky_centroid.dec'], 1)\n",
    "    ax.scatter(x, y, label='Sources from wsp img', marker='^',\n",
    "                linewidths=1.5, s=60, color='green', facecolors='none')\n",
    "\n",
    "    # mask regions \n",
    "    rect = patches.Rectangle((0, 0), 354, 745, linewidth=1, label='DO NOT USE',\n",
    "                             edgecolor=None, facecolor='gray', alpha=0.8)\n",
    "    ax.add_patch(rect)\n",
    "     \n",
    "    # title settings\n",
    "    # ax.set_title(\"Spatial Distribution\")\n",
    "    # ax.title.set_size(24)\n",
    "\n",
    "    # axes label settings\n",
    "    ax.set_xlabel(\"RA (deg)\", fontsize=16)\n",
    "    ax.set_ylabel(\"DEC (deg)\", fontsize=16)\n",
    "\n",
    "    # figure layout\n",
    "    fig.tight_layout(rect=[0, 0.03, 1, 0.95])        \n",
    "\n",
    "    ax.xaxis.set_major_formatter(plt.ScalarFormatter(useOffset=False))\n",
    "    ax.yaxis.set_major_formatter(plt.ScalarFormatter(useOffset=False))\n",
    "\n",
    "    plt.legend(loc='lower left')"
   ]
  },
  {
   "cell_type": "code",
   "execution_count": null,
   "metadata": {},
   "outputs": [],
   "source": [
    "compare_sources(image_wsp, wcs_wsp, cal_cat_df, wsp_cat_df)"
   ]
  },
  {
   "cell_type": "code",
   "execution_count": null,
   "metadata": {},
   "outputs": [],
   "source": [
    "from source_catalog import make_photutil_catalog\n",
    "import matplotlib.patches as patches\n",
    "\n",
    "from utility import *\n",
    "\n",
    "from pink_noise import *\n",
    "\n",
    "import glob\n",
    "\n",
    "files_to_be_reduced = sorted(glob.glob(rf\"/mnt/C/JWST/COSMOS/MIRI/F770W/jw*/*_uncal.fits\"))\n",
    "\n",
    "for fits_file in files_to_be_reduced:\n",
    "    fits_file = fits_file.split('/')[-1]\n",
    "    folder_name = remove_file_suffix(fits_file)\n",
    "    make_photutil_catalog(f\"/mnt/C/JWST/COSMOS/MIRI/F770W/{folder_name}/{folder_name}_cor_wsp.fits\")\n",
    "    \n",
    "    break\n",
    "                          "
   ]
  }
 ],
 "metadata": {
  "kernelspec": {
   "display_name": "Python 3",
   "language": "python",
   "name": "python3"
  },
  "language_info": {
   "codemirror_mode": {
    "name": "ipython",
    "version": 3
   },
   "file_extension": ".py",
   "mimetype": "text/x-python",
   "name": "python",
   "nbconvert_exporter": "python",
   "pygments_lexer": "ipython3",
   "version": "3.9.13"
  },
  "orig_nbformat": 4
 },
 "nbformat": 4,
 "nbformat_minor": 2
}
