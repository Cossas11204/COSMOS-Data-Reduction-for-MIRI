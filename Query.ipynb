{
 "cells": [
  {
   "cell_type": "code",
   "execution_count": null,
   "metadata": {},
   "outputs": [],
   "source": [
    "import glob, os\n",
    "from joblib import Parallel, delayed\n",
    "from astroquery.mast import Observations\n",
    "\n",
    "proposal_id = 1727\n",
    "instrument_name = \"MIRI/IMAGE\"\n",
    "filters = \"F770W\"\n",
    "directory = f\"./F770W/\"\n",
    "\n",
    "\n",
    "# Get observations for the given query\n",
    "obs_list = Observations.query_criteria(proposal_id=proposal_id,\n",
    "                                        instrument_name=instrument_name,\n",
    "                                        filters=filters)\n",
    "obs_list_pd = obs_list.to_pandas().sort_values(by='obs_id').reset_index(drop=True)\n",
    "\n",
    "\n",
    "total_size = 0\n",
    "#                 change to \":\" retrieve ALL the data\n",
    "#                            |\n",
    "#                            V\n",
    "for name in obs_list_pd.iloc[55:]['obs_id']:\n",
    "    # retrieve the data products for the given observation\n",
    "    print(f\"Gathering data products for: {name}\", end=' ')\n",
    "\n",
    "    mask = (obs_list['obs_id'] == name)\n",
    "    data_products = Observations.get_product_list(obs_list[mask])\n",
    "    \n",
    "    # filter the data products for the uncalibrated images\n",
    "    filtered_prod = Observations.filter_products(data_products, \n",
    "                                            productType=\"SCIENCE\",\n",
    "                                            extension=\"fits\",\n",
    "                                            calib_level=[1], \n",
    "                                            productSubGroupDescription=\"UNCAL\")\n",
    "    size = sum(filtered_prod['size'])\n",
    "    total_size += size\n",
    "    print(f\"...retrieving {len(filtered_prod)} files ({size/1e9:.2f} GB)\")\n",
    "\n",
    "    # download the data products\n",
    "    manifest = Observations.download_products(filtered_prod, curl_flag=False)\n",
    "\n",
    "print(\"Finish fetching data products\")\n",
    "print(f\"Total size: {total_size/1e9:.2f} GB\")\n",
    "\n",
    "manifest_list = glob.glob(\"mastDownload*\")\n",
    "print(f\"Total files: {len(manifest_list)}\")\n",
    "\n",
    "def download_data_products(manifest):\n",
    "    print(f\"Downloading: {manifest}\")\n",
    "    os.system(f\"chmod +x {manifest}\")\n",
    "    os.system(f\"./{manifest}\")\n",
    "\n",
    "Parallel(n_jobs=16)(delayed(download_data_products)(manifest) for manifest in manifest_list)\n",
    "\n",
    "if not os.path.exists(directory):\n",
    "    os.system(f\"mkdir {directory}\")\n",
    "\n",
    "for manifest in manifest_list:\n",
    "    os.system(f\"mv {manifest}/JWST/* {directory}\")\n",
    "    os.system(f\"rm -R {manifest}\")\n",
    "    os.system(f\"rm ./{manifest}\")"
   ]
  },
  {
   "cell_type": "code",
   "execution_count": 2,
   "metadata": {},
   "outputs": [
    {
     "name": "stdout",
     "output_type": "stream",
     "text": [
      "55.125\n"
     ]
    }
   ],
   "source": [
    "import glob\n",
    "print(len(glob.glob(\"./mastDownload/JWST/*\"))/8)"
   ]
  }
 ],
 "metadata": {
  "kernelspec": {
   "display_name": "Python 3",
   "language": "python",
   "name": "python3"
  },
  "language_info": {
   "codemirror_mode": {
    "name": "ipython",
    "version": 3
   },
   "file_extension": ".py",
   "mimetype": "text/x-python",
   "name": "python",
   "nbconvert_exporter": "python",
   "pygments_lexer": "ipython3",
   "version": "3.9.13"
  },
  "orig_nbformat": 4
 },
 "nbformat": 4,
 "nbformat_minor": 2
}
